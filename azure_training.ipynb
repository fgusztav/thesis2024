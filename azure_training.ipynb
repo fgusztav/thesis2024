{
 "cells": [
  {
   "cell_type": "code",
   "execution_count": null,
   "metadata": {},
   "outputs": [],
   "source": [
    "import json\n",
    "import os\n",
    "import time\n",
    "from azure.cognitiveservices.vision.customvision.training import CustomVisionTrainingClient\n",
    "from azure.cognitiveservices.vision.customvision.training.models import ImageFileCreateEntry, ImageFileCreateBatch, Region, CustomVisionErrorException\n",
    "from msrest.authentication import ApiKeyCredentials\n",
    "\n",
    "# Load the JSON file\n",
    "json_file_path = \"C:\\\\Users\\\\feren\\\\Downloads\\\\nuimages_output\\\\train\\\\labels.json\"\n",
    "with open(json_file_path, \"r\") as file:\n",
    "    annotations = json.load(file)\n"
   ]
  },
  {
   "cell_type": "code",
   "execution_count": null,
   "metadata": {},
   "outputs": [],
   "source": [
    "# Define class mapping\n",
    "class_mapping = {\n",
    "    \"car\": [\"automobile\", \"taxi\", \"vehicle\", \"suv\", \"jeep\", \"sedan\", \"van\", \"land vehicle\", \"vehicle.car\", \"vehicle.emergency.police\"],\n",
    "    \"truck\": [\"truck\", \"lorry\", \"bus\", \"shuttle bus\", \"pickup truck\", \"vehicle.truck\", \"vehicle.bus.bendy\", \"vehicle.bus.rigid\", \"vehicle.trailer\", \"vehicle.construction\", \"vehicle.emergency.ambulance\"],\n",
    "    \"person\": [\"person\", \"pedestrian\", \"human\", \n",
    "               \"human.pedestrian.adult\", \"human.pedestrian.child\", \"human.pedestrian.construction_worker\", \n",
    "               \"human.pedestrian.personal_mobility\", \"human.pedestrian.police_officer\", \"human.pedestrian.stroller\", \n",
    "               \"human.pedestrian.wheelchair\"],\n",
    "    \"biker\": [\"bicycle\", \"bike\", \"biker\", \"motorcycle\", \"motorbike\", \"vehicle.bicycle\", \"vehicle.motorcycle\"],\n",
    "    # Add more mappings as needed\n",
    "}"
   ]
  },
  {
   "cell_type": "code",
   "execution_count": null,
   "metadata": {},
   "outputs": [],
   "source": [
    "# Reverse class mapping for quick lookup\n",
    "reverse_class_mapping = {}\n",
    "for new_class, old_classes in class_mapping.items():\n",
    "    for old_class in old_classes:\n",
    "        reverse_class_mapping[old_class] = new_class\n",
    "\n",
    "# Filter and map annotations\n",
    "filtered_annotations = []\n",
    "for annotation in annotations:\n",
    "    filtered_objects = []\n",
    "    for obj in annotation[\"objects\"]:\n",
    "        old_class_name = obj[\"class_name\"]\n",
    "        if old_class_name in reverse_class_mapping:\n",
    "            new_class_name = reverse_class_mapping[old_class_name]\n",
    "            obj[\"class_name\"] = new_class_name\n",
    "            filtered_objects.append(obj)\n",
    "    if filtered_objects:\n",
    "        annotation[\"objects\"] = filtered_objects\n",
    "        filtered_annotations.append(annotation)\n"
   ]
  },
  {
   "cell_type": "code",
   "execution_count": null,
   "metadata": {},
   "outputs": [],
   "source": [
    "# Get existing tags\n",
    "tags = trainer.get_tags(project_id)\n",
    "tag_dict = {tag.name: tag.id for tag in tags}\n",
    "\n",
    "# Create tags for all class names in the filtered annotations if they don't already exist\n",
    "class_names = {obj[\"class_name\"] for annotation in filtered_annotations for obj in annotation[\"objects\"]}"
   ]
  },
  {
   "cell_type": "code",
   "execution_count": null,
   "metadata": {},
   "outputs": [],
   "source": [
    "def create_tag_with_retry(trainer, project_id, class_name, retries=5, backoff_factor=2):\n",
    "    for attempt in range(retries):\n",
    "        try:\n",
    "            return trainer.create_tag(project_id, class_name).id\n",
    "        except CustomVisionErrorException as e:\n",
    "            if \"Too Many Requests\" in str(e):\n",
    "                wait_time = backoff_factor ** attempt\n",
    "                print(f\"Rate limit exceeded. Retrying in {wait_time} seconds...\")\n",
    "                time.sleep(wait_time)\n",
    "            else:\n",
    "                raise\n",
    "    raise Exception(f\"Failed to create tag '{class_name}' after {retries} retries.\")\n",
    "\n",
    "for class_name in class_names:\n",
    "    if class_name not in tag_dict:\n",
    "        tag_dict[class_name] = create_tag_with_retry(trainer, project_id, class_name)\n",
    "\n"
   ]
  },
  {
   "cell_type": "code",
   "execution_count": null,
   "metadata": {},
   "outputs": [],
   "source": [
    "# Prepare image entries\n",
    "image_folder = \"C:\\\\Users\\\\feren\\\\Downloads\\\\nuimages_output\\\\train\"\n",
    "image_entries = []"
   ]
  },
  {
   "cell_type": "code",
   "execution_count": null,
   "metadata": {},
   "outputs": [],
   "source": [
    "for annotation in annotations:\n",
    "    image_filename = annotation[\"image_id\"]\n",
    "    image_path = os.path.join(image_folder, image_filename)\n",
    "    \n",
    "    with open(image_path, \"rb\") as image_file:\n",
    "        image_data = image_file.read()\n",
    "        \n",
    "        image_regions = [\n",
    "            Region(\n",
    "                tag_id=tag_dict[obj[\"class_name\"]],\n",
    "                left=obj[\"bbox\"][0],\n",
    "                top=obj[\"bbox\"][1],\n",
    "                width=obj[\"bbox\"][2],\n",
    "                height=obj[\"bbox\"][3]\n",
    "            )\n",
    "            for obj in annotation[\"objects\"]\n",
    "        ]\n",
    "        \n",
    "        image_entries.append(ImageFileCreateEntry(name=image_filename, contents=image_data, regions=image_regions))\n",
    "\n"
   ]
  },
  {
   "cell_type": "code",
   "execution_count": null,
   "metadata": {},
   "outputs": [],
   "source": [
    "# Upload images in batches\n",
    "batch_size = 64\n",
    "for i in range(0, len(image_entries), batch_size):\n",
    "    batch = ImageFileCreateBatch(images=image_entries[i:i + batch_size])\n",
    "    try:\n",
    "        upload_result = trainer.create_images_from_files(project_id, batch)\n",
    "        if not upload_result.is_batch_successful:\n",
    "            print(\"Image batch upload failed.\")\n",
    "            for image in upload_result.images:\n",
    "                if not image.status == \"OK\":\n",
    "                    print(f\"Image {image.source_url} upload failed: {image.status}\")\n",
    "    except CustomVisionErrorException as e:\n",
    "        if \"Too Many Requests\" in str(e):\n",
    "            print(\"Rate limit exceeded while uploading images. Retrying after a delay...\")\n",
    "            time.sleep(60)  # Wait for a minute before retrying\n",
    "            batch = ImageFileCreateBatch(images=image_entries[i:i + batch_size])\n",
    "            upload_result = trainer.create_images_from_files(project_id, batch)\n",
    "            if not upload_result.is_batch_successful:\n",
    "                print(\"Image batch upload failed on retry.\")\n",
    "                for image in upload_result.images:\n",
    "                    if not image.status == \"OK\":\n",
    "                        print(f\"Image {image.source_url} upload failed: {image.status}\")"
   ]
  }
 ],
 "metadata": {
  "kernelspec": {
   "display_name": ".venv",
   "language": "python",
   "name": "python3"
  },
  "language_info": {
   "codemirror_mode": {
    "name": "ipython",
    "version": 3
   },
   "file_extension": ".py",
   "mimetype": "text/x-python",
   "name": "python",
   "nbconvert_exporter": "python",
   "pygments_lexer": "ipython3",
   "version": "3.10.5"
  }
 },
 "nbformat": 4,
 "nbformat_minor": 2
}
